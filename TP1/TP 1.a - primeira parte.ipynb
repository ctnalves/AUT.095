{
 "cells": [
  {
   "cell_type": "markdown",
   "metadata": {},
   "source": [
    "# TP1 - Regressão Linear\n",
    "\n",
    "Bem vindo!\n",
    "Neste trabalho prático você implementará um algoritmo de aprendizado para fazer regressão de uma função.\n",
    "\n",
    "**Instruções:**\n",
    "- Usaremos a versão Python 3.\n",
    "- Avoid using for-loops and while-loops, unless you are explicitly told to do so.\n",
    "- Do not modify the (# GRADED FUNCTION [function name]) comment in some cells. Your work would not be graded if you change this. Each cell containing that comment should only contain one function.\n",
    "- After coding your function, run the cell right below it to check if your result is correct.\n",
    "\n",
    "**Objetivos**\n",
    "- Iniciar o uso do Jupyter Notebook, usando linguagem Python\n",
    "- Usar funções das principais bibliotecas, como numpy e matplotlib\n",
    "- Aplicar conceitos de aprendizado de máquina em problema de regressão"
   ]
  },
  {
   "cell_type": "markdown",
   "metadata": {},
   "source": [
    "## O Jupyter notebook\n",
    "\n",
    "O Jupyter Notebook é um ambiente interativo de programação em uma página web. Nesse notebook você colocará o código entre os comentários `### SEU CÓDIGO COMEÇA AQUI ###` e `### FIM DO CÓDIGO ###`. Após escrever o código, você pode executar a célula com `Shift+Enter` ou no botão \"Run\" (com símbolo de \"play\") na barra de comandos acima.\n",
    "\n",
    "Em alguns trechos será especificado \"(≈ X linhas de código)\" nos comentários para que você tenha uma ideia sobre o tamanho do código a ser desenvolvido naquele trecho. Lembrando que é só uma estimativa, o seu código pode ficar maior ou menor do que o especificado.\n",
    "\n",
    "**Alguns atalhos úteis *no código*:**\n",
    "- `Ctrl+Enter`: executa a célula e mantém o cursor na mesma célula\n",
    "- `Shift+Enter`: executa a célula e move o cursor para a próxima célula\n",
    "- `Ctrl+/`: comenta a linha de código\n",
    "- `Shift+Tab`: quando o cursor estiver em uma função, mostra um HELP da função\n",
    "\n",
    "**Alguns atalhos úteis *na célula*:**\n",
    "- Cria nova célula `a`: acima, `b`: abaixo da céula selecionada\n",
    "- `d` (2x): deleta célula selecionada\n",
    "- `m`: define célula como texto (Markdown)\n",
    "- `y`: define célula como código (Python)\n",
    "- `l`: mostra numeração das linhas na célula de código\n",
    "- `c`: copiar, `v`: colar, `x`: recortar célula selecionada\n",
    "- `ctrl+shift+p`: mostra busca para todos comandos de célula\n",
    "\n",
    "## Primeiros passos\n",
    "Comece com um `print` de `\"Olá mundo\"` na célula abaixo."
   ]
  },
  {
   "cell_type": "code",
   "execution_count": null,
   "metadata": {},
   "outputs": [],
   "source": [
    "### SEU CÓDIGO COMEÇA AQUI ### (≈ 1 linha de código)\n",
    "\n",
    "### FIM DO CÓDIGO ###"
   ]
  },
  {
   "cell_type": "markdown",
   "metadata": {},
   "source": [
    "**Saída esperada**:\n",
    "Olá mundo\n",
    "___"
   ]
  },
  {
   "cell_type": "markdown",
   "metadata": {},
   "source": [
    "A biblioteca NumPy é uma das mais importantes que usaremos. Cálculos matemáticos envolvendo funções, álgebra linear, números aleatórios devem ser procurados nessa biblioteca. Evite usar outras (e.g. math). Para começar, importe a biblioteca `numpy` com o alias `np`, usando o comando:\n",
    "\n",
    "`import numpy as np`\n",
    "\n",
    "Na mesma célula abaixo, teste a função seno `np.sin(x)` com entrada `x=2` (não precisa criar a variável `x`). Note que ao escrever o comando `np.sin(2)` na última linha da célula, o retorno da função é ecoado na saída, mostrada logo abaixo da célula. Isso é util às vezes para ver o retorno de uma função sem precisar usar o comando `print`. Se você não quiser que o valor seja ecoado na saída, basta colocar um `;` (ponto e vírgula) após o comando."
   ]
  },
  {
   "cell_type": "code",
   "execution_count": null,
   "metadata": {},
   "outputs": [],
   "source": [
    "### SEU CÓDIGO COMEÇA AQUI ### (≈ 2 linhas de código)\n",
    "\n",
    "\n",
    "### FIM DO CÓDIGO ###"
   ]
  },
  {
   "cell_type": "markdown",
   "metadata": {},
   "source": [
    "**Saída esperada**:\n",
    "0.90929742682568171\n",
    "\n",
    "Na célula abaixo, use as funções abaixo com os respectivos valores apresentados e mostre os resultados na saída. Lembre-se: todas essas funções já estão implementadas no NumPy (https://numpy.org/devdocs/reference/routines.math.html), não é necessário implementá-las manualmente.\n",
    "1. Exponencial (exp): $e^x$, com $x=8$\n",
    "1. Sinal (sign): $\\rm{sign}(x)$, com $x=-inf$\n",
    "1. Tangente hiperbólica: $\\tanh(x)$, com $x=0.2$\n",
    "1. Cosseno: $\\cos(x)$, com $x=1$\n",
    "\n"
   ]
  },
  {
   "cell_type": "code",
   "execution_count": null,
   "metadata": {},
   "outputs": [],
   "source": [
    "### SEU CÓDIGO COMEÇA AQUI ### (≈ 4 linhas de código)\n",
    "\n",
    "### FIM DO CÓDIGO ###"
   ]
  },
  {
   "cell_type": "markdown",
   "metadata": {},
   "source": [
    "**Saída esperada**:\n",
    "\n",
    "`\n",
    "Exponencial (exp):  2980.95798704\n",
    "Sinal (sign):  -1.0\n",
    "Tangente hiperbólica:  0.197375320225\n",
    "Cosseno:  0.540302305868\n",
    "`\n",
    "___"
   ]
  },
  {
   "cell_type": "markdown",
   "metadata": {},
   "source": [
    "## Plotando gráficos\n",
    "Neste trabalho você implementará um algoritmo capaz de aproximar, via regressão, uma função senoidal. Primeiro vamos vizualizar a função senoidal.\n",
    "1. importe a biblioteca `matplotlib.pyplot` com alias `plt`, com o comando `import matplotlib.pyplot as plt`\n",
    "1. crie um vetor $x$ com 20 valores linearmente espaçados (`np.linspace`) no intervalo $x\\in\\left\\{\\frac{-\\pi}{2},\\frac{\\pi}{2}\\right\\}$\n",
    "1. crie um vetor $h$, em que seus elementos são $h^{(i)} = \\sin(x^{(i)})$, para cada $i$-ésima amostra\n",
    "1. mostre o gráfico da função com uma linha preta ligando os pontos e círculos vermelhos em cada ponto\n",
    "1. adicione rótulo aos eixos vertical e horizontal\n",
    "1. Adicione o título \"Função a ser aproximada\" na figura"
   ]
  },
  {
   "cell_type": "code",
   "execution_count": null,
   "metadata": {},
   "outputs": [],
   "source": [
    "### SEU CÓDIGO COMEÇA AQUI ### (≈ 14 linhas de código)\n",
    "\n",
    "### FIM DO CÓDIGO ###"
   ]
  },
  {
   "cell_type": "markdown",
   "metadata": {},
   "source": [
    "**Saída esperada**\n",
    "\n",
    "<img src=\"files/TP1_funcaoH.png\">"
   ]
  },
  {
   "cell_type": "markdown",
   "metadata": {},
   "source": [
    "Você pode tornar um gráfico interativo usando a biblioteca do Plotly (https://plot.ly/). Veja exemplos dessa biblioteca em https://plot.ly/python/ipython-notebook-tutorial/). Para isso, copie na área de código abaixo os comandos `plt.plot`, `plt.xlabel`, `plt.ylabel` e `plt.title` que você usou na célula anterior."
   ]
  },
  {
   "cell_type": "code",
   "execution_count": null,
   "metadata": {},
   "outputs": [],
   "source": [
    "import plotly.offline as py\n",
    "py.init_notebook_mode(connected=True)\n",
    "import plotly.tools as tls #matplotlib to plotly\n",
    "\n",
    "mpl_fig = plt.figure() #a variável mpl_fig será usada no plotly!\n",
    "\n",
    "### SEU CÓDIGO COMEÇA AQUI ### (≈ 5 linhas de código)\n",
    "\n",
    "### FIM DO CÓDIGO ###\n",
    "\n",
    "plotly_fig = tls.mpl_to_plotly(mpl_fig) #essa função converte uma figura Matplotlib para Plotly!\n",
    "py.iplot(plotly_fig)"
   ]
  },
  {
   "cell_type": "markdown",
   "metadata": {},
   "source": [
    "**Saída esperada**\n",
    "\n",
    "*A mesma figura anterior, só que interativa.*\n",
    "___"
   ]
  },
  {
   "cell_type": "markdown",
   "metadata": {},
   "source": [
    "## Criando Funções\n",
    "Uma rede neural é capaz de aprender a partir de dados de entrada e saída. Vamos criar agora uma função que gera um conjunto de dados, amostrados aleatoriamente. A função deve retornar dois vetores $(x, y)$, em que $x, y\\in\\mathbb{R}^m$. A função deve ter os seguintes parâmetros:\n",
    "1. Nome da função:\n",
    "  + `geraDadosSeno()`\n",
    "1. Entradas:\n",
    "  + $m$: número de amostras, em que o valor padrão é $m=10$ (caso esse valor não seja passado à função)\n",
    "  + $\\sigma$: desvio padrão do ruído nos dados de saída, em que $\\sigma=0$ caso não seja passo à função\n",
    "1. Saída:\n",
    "  + $(x, y)$: tupla contendo dois vetores $x$ e $y$, de tamanho $m$ cada um\n",
    "\n",
    "A função deve fazer o seguinte:\n",
    "1. gerar dados de $x$ de forma que cada elemento $x^{(i)}\\sim\\mathcal{U}\\left(\\frac{-\\pi}{2},\\frac{\\pi}{2}\\right)$\n",
    "2. gerar dados de $y$ de forma que cada elemento $y^{(i)}=\\sin(x)+\\varepsilon^{(i)}$, em que $\\varepsilon\\sim\\mathcal{N}(0;\\sigma)$ representa o ruído nos dados de saída\n",
    "\n",
    "Use a função `geraDadosSeno` para gerar $10$ amostras com desvio padrão $\\sigma=0.1$. Plote um gráfico contendo: linha contínua representando a senóide sem ruído ($h$) e círculos mostrando os pontos amostrados ($y$)."
   ]
  },
  {
   "cell_type": "code",
   "execution_count": null,
   "metadata": {},
   "outputs": [],
   "source": [
    "### SEU CÓDIGO COMEÇA AQUI ### (≈ 15 linhas de código)\n",
    "\n",
    "### FIM DO CÓDIGO ###"
   ]
  },
  {
   "cell_type": "markdown",
   "metadata": {},
   "source": [
    "**Saída esperada**\n",
    "\n",
    "*Gráfico da função senóide com 10 pontos destacados no entorno da função.*\n",
    "___\n",
    "\n",
    "Agora você vai criar a função da rede neural. Essa função vai, basicamente, calcular uma saída $\\hat{y}$ para uma determinada entrada $x$. Lembre-se, no problema em questão temos 1 entrada e 1 saída apenas. A rede implementada terá apenas um neurônio com função de ativação *linear*.\n",
    "\n",
    "1. Nome da função:\n",
    "  + `neuronioSolitario()`\n",
    "1. Entradas:\n",
    "  + $x$: valor da entrada\n",
    "  + $w$: valor do peso\n",
    "1. Saída:\n",
    "  + $\\hat{y}$: saída estimada pelo neurônio\n",
    "\n",
    "A função deve fazer o seguinte:\n",
    "   + calcular $\\hat{y}$ a partir de $x$ e $w$"
   ]
  },
  {
   "cell_type": "code",
   "execution_count": null,
   "metadata": {},
   "outputs": [],
   "source": [
    "### SEU CÓDIGO COMEÇA AQUI ### (≈ 5 linhas de código)\n",
    "\n",
    "### FIM DO CÓDIGO ###"
   ]
  },
  {
   "cell_type": "markdown",
   "metadata": {},
   "source": [
    "## Usando as funções criadas...\n",
    "Com as funções criadas, faça:\n",
    "1. Gere $m=3$ amostras de dados para treinamento da rede neural, com $\\sigma=0.3$\n",
    "1. Treine a rede neural, estimando $w$ baseado nos dados\n",
    "1. Gere $m_{\\rm val}=20$ dados de *validação*, $\\sigma=0.01$, e compare (gráfico!) os dados gerados com a saída da rede $\\hat{y}$\n",
    "1. Calcule o desempenho nesses dados por meio da métrica MSE e coloque o valor no título do gráfico, junto com o número de amostras usadas para o *treinamento*"
   ]
  },
  {
   "cell_type": "code",
   "execution_count": null,
   "metadata": {},
   "outputs": [],
   "source": [
    "### SEU CÓDIGO COMEÇA AQUI ###\n",
    "\n",
    "### FIM DO CÓDIGO ###"
   ]
  },
  {
   "cell_type": "markdown",
   "metadata": {},
   "source": [
    "**Agora faça os passos mencionados anteriormente para $m=7$ nos dados de treinamento (os demais parâmetros permanecem os mesmos)**"
   ]
  },
  {
   "cell_type": "code",
   "execution_count": null,
   "metadata": {},
   "outputs": [],
   "source": [
    "### SEU CÓDIGO COMEÇA AQUI ###\n",
    "\n",
    "### FIM DO CÓDIGO ###"
   ]
  },
  {
   "cell_type": "markdown",
   "metadata": {},
   "source": [
    "**Agora faça os passos mencionados anteriormente para $m=30$ nos dados de treinamento (os demais parâmetros permanecem os mesmos)**"
   ]
  },
  {
   "cell_type": "code",
   "execution_count": null,
   "metadata": {},
   "outputs": [],
   "source": [
    "### SEU CÓDIGO COMEÇA AQUI ###\n",
    "\n",
    "### FIM DO CÓDIGO ###"
   ]
  },
  {
   "cell_type": "markdown",
   "metadata": {},
   "source": [
    "Fim (ufa!)"
   ]
  }
 ],
 "metadata": {
  "kernelspec": {
   "display_name": "Python 3",
   "language": "python",
   "name": "python3"
  },
  "language_info": {
   "codemirror_mode": {
    "name": "ipython",
    "version": 3
   },
   "file_extension": ".py",
   "mimetype": "text/x-python",
   "name": "python",
   "nbconvert_exporter": "python",
   "pygments_lexer": "ipython3",
   "version": "3.6.3"
  },
  "toc": {
   "nav_menu": {
    "height": "228px",
    "width": "370px"
   },
   "number_sections": true,
   "sideBar": true,
   "skip_h1_title": false,
   "title_cell": "Table of Contents",
   "title_sidebar": "Contents",
   "toc_cell": false,
   "toc_position": {},
   "toc_section_display": true,
   "toc_window_display": false
  }
 },
 "nbformat": 4,
 "nbformat_minor": 2
}
