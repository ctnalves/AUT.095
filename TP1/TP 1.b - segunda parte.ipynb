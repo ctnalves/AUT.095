{
 "cells": [
  {
   "cell_type": "markdown",
   "metadata": {},
   "source": [
    "# TP1_B - Regressão Polinomial\n",
    "\n",
    "Bem vindo!\n",
    "Nesta parte do TP você implementará um algoritmo de regressão polinomial.\n",
    "\n",
    "**Instruções:**\n",
    "- Use a versão Python 3.\n",
    "- Evite sempre usar usar laços `for` e `while`, fazer contas no formato vetorial é sempre mais rápido.\n",
    "- Não apague os comentários que já existem nas células de código. Mas é claro que você pode adicionar outros comentários.\n",
    "\n",
    "**Objetivos**\n",
    "- Implementar código vetorizado\n",
    "- Aplicar o algoritmo de aprendizado em modelos de diferentes capacidades\n",
    "- Verificar na prática conceitos de generalização, overfitting e underfitting"
   ]
  },
  {
   "cell_type": "markdown",
   "metadata": {},
   "source": [
    "## O Jupyter notebook\n",
    "\n",
    "O Jupyter Notebook é um ambiente interativo de programação em uma página web. Nesse notebook você colocará o código entre os comentários `### SEU CÓDIGO COMEÇA AQUI ###` e `### FIM DO CÓDIGO ###`. Após escrever o código, você pode executar a célula com `Shift+Enter` ou no botão \"Run\" (com símbolo de \"play\") na barra de comandos acima.\n",
    "\n",
    "Em alguns trechos será especificado \"(≈ X linhas de código)\" nos comentários para que você tenha uma ideia sobre o tamanho do código a ser desenvolvido naquele trecho. Lembrando que é só uma estimativa, o seu código pode ficar maior ou menor do que o especificado.\n",
    "\n",
    "**Alguns atalhos úteis *no código*:**\n",
    "- `Ctrl+Enter`: executa a célula e mantém o cursor na mesma célula\n",
    "- `Shift+Enter`: executa a célula e move o cursor para a próxima célula\n",
    "- `Ctrl+/`: comenta a linha de código\n",
    "- `Shift+Tab`: quando o cursor estiver em uma função, mostra um HELP da função\n",
    "\n",
    "**Alguns atalhos úteis *na célula*:**\n",
    "- Cria nova célula `a`: acima, `b`: abaixo da céula selecionada\n",
    "- `d` (2x): deleta célula selecionada\n",
    "- `m`: define célula como texto (Markdown)\n",
    "- `y`: define célula como código (Python)\n",
    "- `l`: mostra numeração das linhas na célula de código\n",
    "- `c`: copiar, `v`: colar, `x`: recortar célula selecionada\n",
    "- `ctrl+shift+p`: mostra busca para todos comandos de célula"
   ]
  },
  {
   "cell_type": "markdown",
   "metadata": {},
   "source": [
    "## Funções Oráculo e modelo polinomial\n",
    "Crie  uma função que gera um conjunto de dados, amostrados aleatoriamente (como foi feito na primeira parte). Contudo, note que alguns parâmetros estão diferentes do trabalho anterior:\n",
    "1. Nome da função:\n",
    "  + `oraculo()`\n",
    "1. Entradas:\n",
    "  + $m$: número de amostras, em que o valor padrão é $m=10$ (caso esse valor não seja passado à função)\n",
    "  + $\\sigma$: desvio padrão do ruído nos dados de saída, em que $\\sigma=0$ caso não seja passado à função\n",
    "1. Saída:\n",
    "  + $(x, y)$: tupla contendo dois vetores $x$ e $y$, de tamanho $m$ cada um\n",
    "\n",
    "A função deve fazer o seguinte:\n",
    "1. gerar dados de $x$ de forma que cada elemento $x^{(i)}\\sim\\mathcal{U}\\left(-\\pi,\\pi\\right)$\n",
    "2. gerar dados de $y$ de forma que cada elemento $y^{(i)}=\\sin(x^{(i)})+\\varepsilon^{(i)}$, em que $\\varepsilon\\sim\\mathcal{N}(0;\\sigma)$ representa o ruído nos dados de saída\n",
    "\n",
    "Use a função `oraculo` para gerar $20$ amostras com desvio padrão $\\sigma=0.3$. Plote um gráfico contendo: linha contínua representando a senóide sem ruído ($h$) e círculos mostrando os pontos amostrados ($y$)."
   ]
  },
  {
   "cell_type": "code",
   "execution_count": 10,
   "metadata": {},
   "outputs": [],
   "source": [
    "### SEU CÓDIGO COMEÇA AQUI ### (≈ 15 linhas de código)\n",
    "\n",
    "### FIM DO CÓDIGO ###"
   ]
  },
  {
   "cell_type": "markdown",
   "metadata": {},
   "source": [
    "**Saída esperada**\n",
    "\n",
    "*Gráfico da função senóide (linha contínua) com 20 pontos destacados no entorno da função.*\n",
    "___\n",
    "\n",
    "Crie agora a função `modeloPolin()` que fará o papel da rede neural. Essa função calculará uma saída $\\hat{y}\\in\\mathbb{R}$ para uma determinada entrada $x\\in\\mathbb{R}$, com base em seu vetor de parâmetros $w\\in\\mathbb{R}^{n_g+1}$, em que $n_g$ é o grau do polinômio. Lembre-se, no problema em questão temos 1 entrada e 1 saída apenas. Contudo, o modelo implementará um polinômio de grau $n_g$, a depender da dimensão da entrada $w$. Exemplo (1): caso `w.size=4`, será considerado o polinômio $w_3 x^3+w_2 x^2+w_1 x+w_0$. Exemplo (2): caso `w.size=2`, será considerado o polinômio $w_1 x+w_0$. Note que o subíndice de $w$ denota a posição no vetor $w$.\n",
    "\n",
    "1. Nome da função:\n",
    "  + `modeloPolin()`\n",
    "1. Entradas:\n",
    "  + $x$: valor da entrada, vetor ou escalar, no formato `w.shape=(n,)`\n",
    "  + $w$: vetor de pesos, vetor no formato `w.shape=(ng,)`\n",
    "1. Saída:\n",
    "  + $\\hat{y}$: saída estimada pelo modleo, vetor ou escalar, no formato `w.shape=(n,)`\n",
    "\n",
    "A função deve fazer o seguinte:\n",
    "   + calcular $\\hat{y}$ a partir de $x$ e $w$\n",
    "\n",
    "Ao final, teste a função usando `modeloPolin(x=np.array([12,20]), w=np.array([1,2,3,4]))` e imprima o resultado."
   ]
  },
  {
   "cell_type": "code",
   "execution_count": 9,
   "metadata": {},
   "outputs": [],
   "source": [
    "### SEU CÓDIGO COMEÇA AQUI ###\n",
    "\n",
    "### FIM DO CÓDIGO ###"
   ]
  },
  {
   "cell_type": "markdown",
   "metadata": {},
   "source": [
    "**Saída esperada**\n",
    "(7369, 33241)\n",
    "___\n",
    "\n",
    "Crie a função `treinaPoli()` para fazer o treinamento do modelo. Isto é, a função deve calcular o valor do vetor de pesos $w\\in\\mathbb{R}^{n_g+1}$ com base no vetor de entradas $x\\in\\mathbb{R}^{m}$, no vetor de saídas $y\\in\\mathbb{R}^{m}$ e no grau do polinômio do modelo $n_g$. Para calcular $w$, use a solução da pseudoinversa vista em sala.\n",
    "\n",
    "1. Nome da função:\n",
    "  + `treinaPoli()`\n",
    "1. Entradas:\n",
    "  + $x$: vetor de amostras de entrada, com dimensão $x\\in\\mathbb{R}^{m}$\n",
    "  + $y$: vetor de amostras de saída, com dimensão $y\\in\\mathbb{R}^{m}$\n",
    "  + $n_g$: (inteiro) grau do modelo utilizado\n",
    "1. Saída:\n",
    "  + $w$: vetor de pesos estimados, com dimensão $w\\in\\mathbb{R}^{n_g+1}$\n",
    "\n",
    "A função deve fazer o seguinte:\n",
    "   + calcular $w$ a partir de $x$, $y$ e $n_g$\n",
    "\n",
    "\n",
    "## Generalização\n",
    "\n",
    "### Observando o *underfitting*\n",
    "Com as funções criadas, elabore um teste de modo a verificar os efeitos de *overfitting* e *underfitting* causado pela diferente capacidade do modelo.\n",
    "1. Escolha um modelo de \"baixa\" capacidade (baixa ordem) para observar o *underfitting*\n",
    "1. Treine o modelo usando \"poucas\" amostras\n",
    "1. Esse modelo será usado para gerar uma figura no item \"Capacidade adequada\" abaixo\n",
    "\n",
    "### Observando o *overfitting*\n",
    "Similar ao item anterior, mas agora fazer com um modelo de alta capacidade (alta ordem).\n",
    "1. Escolha um modelo de \"alta\" capacidade (alta ordem) para observar o *overfitting*\n",
    "1. Treine o modelo usando \"poucas\" amostras\n",
    "1. Esse modelo será usado para gerar uma figura no item seguinte\n",
    "\n",
    "### Capacidade adequada\n",
    "Agora use um modelo capacidade adequada.\n",
    "1. Escolha um modelo de capacidade \"adequada\"\n",
    "1. Treine o modelo usando \"poucas\" amostras (o mesmo número de amostras dos anteriores)\n",
    "1. Plote um gráfico comparando (num único gráfico!) a função seno (sem ruído) e a saída dos TRÊS MODELOS obtidos! Para isso, faça:\n",
    "   1. gere 100 amostras de $x$ linearmente espaçadas entre $(-\\pi,\\pi)$\n",
    "   1. calcule a saída correspondente de cada modelo para todas as amostras\n",
    "   1. plote um **único gráfico** com todas as respostas comparativas\n",
    "   1. escolha escala, cores e traços adequados para não ficar embolado o gráfico!"
   ]
  },
  {
   "cell_type": "code",
   "execution_count": null,
   "metadata": {},
   "outputs": [],
   "source": [
    "### SEU CÓDIGO COMEÇA AQUI ###\n",
    "\n",
    "### FIM DO CÓDIGO ###"
   ]
  },
  {
   "cell_type": "markdown",
   "metadata": {},
   "source": [
    "**Saída esperada**:\n",
    "gráfico comparativo das três situações distintas.\n",
    "___\n",
    "\n",
    "## Efeito da quantidade de dados disponível\n",
    "\n",
    "Faça o mesmo que foi feito na seção \"Generalização\", porém, aqui, você fará o teste usando \"muitas\" amostras para treinamento. Ao final, faça um gráfico comparativo dos três modelos."
   ]
  },
  {
   "cell_type": "code",
   "execution_count": null,
   "metadata": {},
   "outputs": [],
   "source": [
    "### SEU CÓDIGO COMEÇA AQUI ###\n",
    "\n",
    "### FIM DO CÓDIGO ###"
   ]
  },
  {
   "cell_type": "markdown",
   "metadata": {},
   "source": [
    "**Saída esperada**:\n",
    "gráfico comparativo das três situações distintas (agora com muitos dados de treinamento).\n",
    "___"
   ]
  },
  {
   "cell_type": "markdown",
   "metadata": {},
   "source": [
    "\n",
    "\n",
    "# Conclusões\n",
    "\n",
    "Escreva aqui, em linguagem `markdown`, suas considerações sobre o que foi aprendido nesse trabalho prático.\n",
    "\n",
    "*escreva aqui*"
   ]
  }
 ],
 "metadata": {
  "kernelspec": {
   "display_name": "Python 3",
   "language": "python",
   "name": "python3"
  },
  "language_info": {
   "codemirror_mode": {
    "name": "ipython",
    "version": 3
   },
   "file_extension": ".py",
   "mimetype": "text/x-python",
   "name": "python",
   "nbconvert_exporter": "python",
   "pygments_lexer": "ipython3",
   "version": "3.6.3"
  },
  "toc": {
   "nav_menu": {
    "height": "228px",
    "width": "370px"
   },
   "number_sections": true,
   "sideBar": true,
   "skip_h1_title": false,
   "title_cell": "Table of Contents",
   "title_sidebar": "Contents",
   "toc_cell": false,
   "toc_position": {},
   "toc_section_display": true,
   "toc_window_display": false
  }
 },
 "nbformat": 4,
 "nbformat_minor": 2
}
